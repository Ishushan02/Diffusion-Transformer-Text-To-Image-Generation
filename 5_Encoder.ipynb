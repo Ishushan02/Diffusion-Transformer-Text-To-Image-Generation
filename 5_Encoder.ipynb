{
 "cells": [
  {
   "cell_type": "markdown",
   "id": "4ecc42be",
   "metadata": {},
   "source": [
    "Input Image -> VAE Encoder -> latents -> add Noise -> patchify -> input to Transformer"
   ]
  },
  {
   "cell_type": "code",
   "execution_count": 13,
   "id": "424b90da",
   "metadata": {},
   "outputs": [],
   "source": [
    "import torch.nn as nn\n",
    "import torch\n",
    "from diffusers import AutoencoderDC\n",
    "from diffusers import DDPMScheduler, DDIMScheduler\n",
    "from CombinationFunctions import PatchEmbedding\n",
    "from torchvision import transforms\n",
    "from PIL import Image\n",
    "import matplotlib.pyplot as plt"
   ]
  },
  {
   "cell_type": "code",
   "execution_count": 17,
   "id": "71bf9b71",
   "metadata": {},
   "outputs": [
    {
     "name": "stdout",
     "output_type": "stream",
     "text": [
      "torch.Size([1, 4, 768]) torch.Size([1, 4, 768])\n"
     ]
    },
    {
     "data": {
      "text/plain": [
       "(torch.Size([1, 4, 768]), torch.Size([1, 128, 8, 8]))"
      ]
     },
     "execution_count": 17,
     "metadata": {},
     "output_type": "execute_result"
    }
   ],
   "source": [
    "class ImageInputToDiT(nn.Module):\n",
    "    def __init__(self, latentSize, latentChannels, embedDimension, patchSize, totalTimestamps = 1000, beta_schedule = \"squaredcos_cap_v2\", modelName=\"mit-han-lab/dc-ae-f64c128-in-1.0-diffusers\"):\n",
    "        super().__init__()\n",
    "\n",
    "        self.dc_ae = AutoencoderDC.from_pretrained(modelName, torch_dtype=torch.float32)\n",
    "        self.noiseScheduler = DDPMScheduler(num_train_timesteps=totalTimestamps, beta_schedule=beta_schedule)\n",
    "        self.patchEmbedding = PatchEmbedding(imageSize = latentSize, patchSize = patchSize, inChannels = latentChannels, embedDimension = embedDimension)\n",
    "\n",
    "    def forward(self, x, timestamp):\n",
    "\n",
    "        with torch.no_grad():\n",
    "            latents = self.dc_ae.encode(x).latent\n",
    "\n",
    "        noise = torch.randn_like(latents)\n",
    "        alphaT = self.noiseScheduler.alphas_cumprod[timestamp].view(1, 1, 1, 1)\n",
    "        noisyLatents = torch.sqrt(alphaT) * latents + torch.sqrt(1 - alphaT) * noise\n",
    "        \n",
    "        patches = self.patchEmbedding(noisyLatents)\n",
    "\n",
    "        return patches, noise\n",
    "\n",
    "\n",
    "preprocess = transforms.Compose([\n",
    "    transforms.Resize((512, 512)),\n",
    "    transforms.ToTensor(),                 \n",
    "    transforms.Normalize([0.5]*3, [0.5]*3)])\n",
    "\n",
    "# image = Image.open(\"Images/testImage.jpg\").convert(\"RGB\")\n",
    "# image_tensor = preprocess(image).unsqueeze(0)\n",
    "image_tensor = torch.randn(1, 3, 512, 512)\n",
    "\n",
    "imgenc = ImageInputToDiT(latentSize = 8, latentChannels = 128, embedDimension = 768, patchSize = 4)\n",
    "patches, noise = imgenc(image_tensor, 10)\n",
    "patches.shape, noise.shape"
   ]
  },
  {
   "cell_type": "code",
   "execution_count": null,
   "id": "dc768f6f",
   "metadata": {},
   "outputs": [],
   "source": []
  },
  {
   "cell_type": "code",
   "execution_count": null,
   "id": "343d136b",
   "metadata": {},
   "outputs": [],
   "source": []
  },
  {
   "cell_type": "code",
   "execution_count": null,
   "id": "b2c9f45a",
   "metadata": {},
   "outputs": [],
   "source": []
  }
 ],
 "metadata": {
  "kernelspec": {
   "display_name": "pytorch_env",
   "language": "python",
   "name": "python3"
  },
  "language_info": {
   "codemirror_mode": {
    "name": "ipython",
    "version": 3
   },
   "file_extension": ".py",
   "mimetype": "text/x-python",
   "name": "python",
   "nbconvert_exporter": "python",
   "pygments_lexer": "ipython3",
   "version": "3.13.3"
  }
 },
 "nbformat": 4,
 "nbformat_minor": 5
}
